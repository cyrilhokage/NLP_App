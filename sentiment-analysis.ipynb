{
 "cells": [
  {
   "cell_type": "markdown",
   "metadata": {},
   "source": [
    "This is a simple app on sentiment analysis with Google Natural Language API"
   ]
  },
  {
   "cell_type": "code",
   "execution_count": 2,
   "metadata": {},
   "outputs": [],
   "source": [
    "import argparse\n",
    "\n",
    "from google.cloud import language\n",
    "from google.cloud.language import enums\n",
    "from google.cloud.language import types"
   ]
  },
  {
   "cell_type": "code",
   "execution_count": 7,
   "metadata": {},
   "outputs": [],
   "source": [
    "import os"
   ]
  },
  {
   "cell_type": "code",
   "execution_count": 9,
   "metadata": {},
   "outputs": [],
   "source": [
    "os.environ['GOOGLE_APPLICATION_CREDENTIALS'] = r\"C:\\Users\\cyril\\Desktop\\credential\\My_First_Project-41f9e3201cd4.json\""
   ]
  },
  {
   "cell_type": "code",
   "execution_count": 2,
   "metadata": {
    "scrolled": true
   },
   "outputs": [
    {
     "name": "stderr",
     "output_type": "stream",
     "text": [
      "usage: ipykernel_launcher.py [-h] movie_review_filename\n",
      "ipykernel_launcher.py: error: unrecognized arguments: -f\n"
     ]
    },
    {
     "ename": "SystemExit",
     "evalue": "2",
     "output_type": "error",
     "traceback": [
      "An exception has occurred, use %tb to see the full traceback.\n",
      "\u001b[1;31mSystemExit\u001b[0m\u001b[1;31m:\u001b[0m 2\n"
     ]
    },
    {
     "name": "stderr",
     "output_type": "stream",
     "text": [
      "C:\\Users\\cyril\\Anaconda3\\lib\\site-packages\\IPython\\core\\interactiveshell.py:2918: UserWarning: To exit: use 'exit', 'quit', or Ctrl-D.\n",
      "  warn(\"To exit: use 'exit', 'quit', or Ctrl-D.\", stacklevel=1)\n"
     ]
    }
   ],
   "source": [
    "if __name__ == '__main__':\n",
    "    parser = argparse.ArgumentParser(\n",
    "        description=__doc__,\n",
    "        formatter_class=argparse.RawDescriptionHelpFormatter)\n",
    "    parser.add_argument(\n",
    "        'movie_review_filename',\n",
    "        help='The filename of the movie review you\\'d like to analyze.')\n",
    "    args = parser.parse_args()\n",
    "\n",
    "    analyze(args.movie_review_filename)"
   ]
  },
  {
   "cell_type": "code",
   "execution_count": 6,
   "metadata": {},
   "outputs": [],
   "source": [
    "file = open(\"reviews/bladerunner-pos.txt\", \"r\")"
   ]
  },
  {
   "cell_type": "code",
   "execution_count": 10,
   "metadata": {},
   "outputs": [
    {
     "data": {
      "text/plain": [
       "\"`Bladerunner` is often touted as one of the best science fiction films ever\\nmade. Indeed, it satisfies many of the requisites for good sci-fi: a future\\nworld with flying cars and humanoid robots attempting to rebel against their\\ncreators. But more than anything, `Bladerunner` is a fantastic exploration\\nof the nature of what it means to be human. If we create robots which can\\nthink, will they become human? And if they do, what makes us unique? Indeed,\\nhow can we be sure we're not human in any case? `Bladerunner` explored\\nthese issues before such movies as `The Matrix,' and did so intelligently.\\nThe visual effects and score by Vangelis set the mood. See this movie\\nin a dark theatre to appreciate it fully. Highly recommended!\""
      ]
     },
     "execution_count": 10,
     "metadata": {},
     "output_type": "execute_result"
    }
   ],
   "source": [
    "file.read()"
   ]
  },
  {
   "cell_type": "code",
   "execution_count": 13,
   "metadata": {},
   "outputs": [],
   "source": [
    "def analyze(text):\n",
    "    \"\"\"Run a sentiment analysis request on text within a passed filename.\"\"\"\n",
    "    client = language.LanguageServiceClient()\n",
    "    \n",
    "    #with open(movie_review_filename, 'r') as review_file:\n",
    "        # Instantiates a plain text document.\n",
    "     #   content = review_file.read()\n",
    "    content = text\n",
    "    \n",
    "    document = types.Document(\n",
    "        content=content,\n",
    "        type=enums.Document.Type.PLAIN_TEXT)\n",
    "    annotations = client.analyze_sentiment(document=document)\n",
    "\n",
    "    # Print the results\n",
    "    print_result(annotations)"
   ]
  },
  {
   "cell_type": "code",
   "execution_count": 26,
   "metadata": {},
   "outputs": [],
   "source": [
    "def print_result(annotations):\n",
    "    score = annotations.document_sentiment.score\n",
    "    magnitude = annotations.document_sentiment.magnitude\n",
    "\n",
    "    for index, sentence in enumerate(annotations.sentences):\n",
    "        sentence_sentiment = sentence.sentiment.score\n",
    "        sentence_magnitude = sentence.sentiment.magnitude\n",
    "        print('Sentence {} has a sentiment score of {} with magnitude of {}'.format(\n",
    "            index, sentence_sentiment, sentence_magnitude))\n",
    "\n",
    "    print('Overall Sentiment: score of {} with magnitude of {}'.format(\n",
    "        score, magnitude))\n",
    "    return 0"
   ]
  },
  {
   "cell_type": "code",
   "execution_count": 5,
   "metadata": {},
   "outputs": [],
   "source": [
    "# analyze(\"reviews/bladerunner-pos.txt\")\n"
   ]
  },
  {
   "cell_type": "code",
   "execution_count": 27,
   "metadata": {},
   "outputs": [
    {
     "name": "stdout",
     "output_type": "stream",
     "text": [
      "Sentence 0 has a sentiment score of 0.800000011920929 with magnitude of 0.800000011920929\n",
      "Sentence 1 has a sentiment score of 0.699999988079071 with magnitude of 0.699999988079071\n",
      "Sentence 2 has a sentiment score of 0.8999999761581421 with magnitude of 0.8999999761581421\n",
      "Overall Sentiment: score of 0.800000011920929 with magnitude of 2.4000000953674316\n"
     ]
    }
   ],
   "source": [
    "analyze (\"Bonjur mon cheri, j'espère que vous allez bien et que vous vous portez bien ! je suis ravi de vous revoir ! j'ai adoré ce film !\")"
   ]
  }
 ],
 "metadata": {
  "kernelspec": {
   "display_name": "Python 3",
   "language": "python",
   "name": "python3"
  },
  "language_info": {
   "codemirror_mode": {
    "name": "ipython",
    "version": 3
   },
   "file_extension": ".py",
   "mimetype": "text/x-python",
   "name": "python",
   "nbconvert_exporter": "python",
   "pygments_lexer": "ipython3",
   "version": "3.6.4"
  }
 },
 "nbformat": 4,
 "nbformat_minor": 2
}
